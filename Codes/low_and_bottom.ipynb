{
  "nbformat": 4,
  "nbformat_minor": 0,
  "metadata": {
    "colab": {
      "provenance": []
    },
    "kernelspec": {
      "name": "python3",
      "display_name": "Python 3"
    },
    "language_info": {
      "name": "python"
    }
  },
  "cells": [
    {
      "cell_type": "markdown",
      "source": [
        "#Montar Drive"
      ],
      "metadata": {
        "id": "n3bp9paY5Yeh"
      }
    },
    {
      "cell_type": "code",
      "execution_count": null,
      "metadata": {
        "colab": {
          "base_uri": "https://localhost:8080/"
        },
        "id": "MeOSSkgzuSUb",
        "outputId": "9d103bb6-5aac-4572-a331-0bcab746d469"
      },
      "outputs": [
        {
          "output_type": "stream",
          "name": "stdout",
          "text": [
            "Drive already mounted at /content/drive; to attempt to forcibly remount, call drive.mount(\"/content/drive\", force_remount=True).\n"
          ]
        }
      ],
      "source": [
        "from google.colab import drive\n",
        "drive.mount('/content/drive')"
      ]
    },
    {
      "cell_type": "markdown",
      "source": [
        "#Importa Blibiotecas"
      ],
      "metadata": {
        "id": "TyNjVsU85cRu"
      }
    },
    {
      "cell_type": "code",
      "source": [
        "import sqlite3\n",
        "import pandas as pd\n",
        "import plotly.graph_objects as go"
      ],
      "metadata": {
        "id": "Cd9r3fUcu3UV"
      },
      "execution_count": null,
      "outputs": []
    },
    {
      "cell_type": "markdown",
      "source": [
        "# Conectar ao banco de dados e carregar os dados"
      ],
      "metadata": {
        "id": "JhKLOro75i91"
      }
    },
    {
      "cell_type": "code",
      "source": [
        "def load_data(db_path, query):\n",
        "    conn = sqlite3.connect(db_path)\n",
        "    df = pd.read_sql_query(query, conn)\n",
        "    conn.close()\n",
        "    return df"
      ],
      "metadata": {
        "id": "hSmvoL8QvDR-"
      },
      "execution_count": null,
      "outputs": []
    },
    {
      "cell_type": "markdown",
      "source": [
        "#Processar o banco"
      ],
      "metadata": {
        "id": "uiFMiuq55r6I"
      }
    },
    {
      "cell_type": "code",
      "source": [
        "def process_data(df):\n",
        "    # Criar uma nova coluna datetime combinando date e time\n",
        "    df['datetime'] = pd.to_datetime(df['date'] + ' ' + df['time'], format='%Y-%m-%d %H:%M:%S')\n",
        "    # Definir datetime como o índice\n",
        "    df.set_index('datetime', inplace=True)\n",
        "    # Filtrar os dados para incluir apenas entradas entre 09:00:00 e 17:30:00\n",
        "    df = df[(df.index.time >= pd.to_datetime('09:00:00').time()) &\n",
        "            (df.index.time <= pd.to_datetime('17:30:00').time())]\n",
        "    return df"
      ],
      "metadata": {
        "id": "owhp_YUEzmUY"
      },
      "execution_count": null,
      "outputs": []
    },
    {
      "cell_type": "markdown",
      "source": [
        "# Obetendo dados para candles de 5 e 60 minutos"
      ],
      "metadata": {
        "id": "3uCzr4Oi51b0"
      }
    },
    {
      "cell_type": "code",
      "source": [
        "def identify_60_min_candles(df):\n",
        "    # Reamostragem para obter os candles de 60 minutos\n",
        "    df_60min = df.resample('60min').agg({\n",
        "        'open': 'first',\n",
        "        'close': 'last',\n",
        "        'high': 'max',\n",
        "        'low': 'min',\n",
        "        'volume': 'sum'\n",
        "    }).dropna()\n",
        "    return df_60min"
      ],
      "metadata": {
        "id": "8llreQgUvX_G"
      },
      "execution_count": null,
      "outputs": []
    },
    {
      "cell_type": "code",
      "source": [
        "def identify_5_min_candles(df):\n",
        "    # Reamostragem para manter os candles de 5 minutos\n",
        "    df_5min = df.resample('5min').agg({\n",
        "        'open': 'first',\n",
        "        'close': 'last',\n",
        "        'high': 'max',\n",
        "        'low': 'min',\n",
        "        'volume': 'sum'\n",
        "    }).dropna()\n",
        "    return df_5min"
      ],
      "metadata": {
        "id": "U5yjRCViz6GX"
      },
      "execution_count": null,
      "outputs": []
    },
    {
      "cell_type": "markdown",
      "source": [
        "# Função principal para detectar topos e fundos"
      ],
      "metadata": {
        "id": "KLAaAUxm6HnN"
      }
    },
    {
      "cell_type": "code",
      "source": [
        "def detectar_topos_fundos_60_min(df):\n",
        "    df_60min = identify_60_min_candles(df)\n",
        "    df_5min = identify_5_min_candles(df)\n",
        "\n",
        "    topos = []\n",
        "    fundos = []\n",
        "    pontos_confirmacao = []  # Armazenar pontos de confirmação para topos e fundos\n",
        "\n",
        "    i = 0\n",
        "    while i < len(df_60min) - 1:\n",
        "        candle_atual = df_60min.iloc[i]\n",
        "        candle_atual_alta = candle_atual['close'] > candle_atual['open']  #define um candle de alta\n",
        "        candle_atual_baixa = candle_atual['close'] <= candle_atual['open'] #define um candle de baixa\n",
        "\n",
        "        # Detectando sequência de alta\n",
        "        if candle_atual_alta:\n",
        "            sequencia_alta = [candle_atual]\n",
        "\n",
        "            # Recolher candles consecutivos de alta de 60 minutos\n",
        "            while i + 1 < len(df_60min) and df_60min.iloc[i + 1]['close'] > df_60min.iloc[i + 1]['open']:\n",
        "                i += 1\n",
        "                sequencia_alta.append(df_60min.iloc[i])\n",
        "\n",
        "            # Encontrar o candle com o maior fechamento dentro dessa sequência de alta\n",
        "            if sequencia_alta:\n",
        "                candle_topo = max(sequencia_alta, key=lambda x: x['close'])\n",
        "\n",
        "                # Buscar os candles de 5 minutos dentro do intervalo do topo\n",
        "                intervalo_topo_5min = df_5min[(df_5min.index >= candle_topo.name) &\n",
        "                                              (df_5min.index < candle_topo.name + pd.Timedelta(minutes=60))]\n",
        "                if not intervalo_topo_5min.empty:\n",
        "                    maior_close_5min = intervalo_topo_5min['close'].max()\n",
        "                    candle_5min_topo = intervalo_topo_5min[intervalo_topo_5min['close'] == maior_close_5min].iloc[0]\n",
        "                    topos.append((candle_5min_topo.name, candle_5min_topo['close']))\n",
        "                    pontos_confirmacao.append((candle_5min_topo.name, candle_5min_topo['close']))\n",
        "\n",
        "                # Verificar o próximo intervalo de 60 minutos para um fechamento mais alto\n",
        "                if i + 1 < len(df_60min):\n",
        "                    prox_candle = df_60min.iloc[i + 1]\n",
        "                    prox_intervalo_5min = df_5min[(df_5min.index >= prox_candle.name) &\n",
        "                                                    (df_5min.index < prox_candle.name + pd.Timedelta(minutes=60))]\n",
        "                    if not prox_intervalo_5min.empty:\n",
        "                        maior_close_prox_5min = prox_intervalo_5min['close'].max()\n",
        "\n",
        "                        # Atualizar topo se um fechamento mais alto existir no próximo intervalo\n",
        "                        if maior_close_prox_5min > maior_close_5min:\n",
        "                            candle_5min_topo_prox = prox_intervalo_5min[prox_intervalo_5min['close'] == maior_close_prox_5min].iloc[0]\n",
        "                            topos[-1] = (candle_5min_topo_prox.name, candle_5min_topo_prox['close'])\n",
        "                            pontos_confirmacao[-1] = (candle_5min_topo_prox.name, candle_5min_topo_prox['close'])\n",
        "\n",
        "        elif candle_atual_baixa:\n",
        "            # Detectando sequência de baixa\n",
        "            sequencia_baixa = [candle_atual]\n",
        "            while i + 1 < len(df_60min) and df_60min.iloc[i + 1]['close'] < df_60min.iloc[i + 1]['open']:\n",
        "                i += 1\n",
        "                sequencia_baixa.append(df_60min.iloc[i])\n",
        "\n",
        "            # Encontrar o candle com o menor fechamento dentro dessa sequência de baixa\n",
        "            if sequencia_baixa:\n",
        "                candle_fundo = min(sequencia_baixa, key=lambda x: x['close'])\n",
        "\n",
        "                # Buscar os candles de 5 minutos dentro do intervalo do fundo\n",
        "                intervalo_fundo_5min = df_5min[(df_5min.index >= candle_fundo.name) &\n",
        "                                              (df_5min.index < candle_fundo.name + pd.Timedelta(minutes=60))]\n",
        "                if not intervalo_fundo_5min.empty:\n",
        "                    menor_close_5min = intervalo_fundo_5min['close'].min()\n",
        "                    candle_5min_fundo = intervalo_fundo_5min[intervalo_fundo_5min['close'] == menor_close_5min].iloc[0]\n",
        "                    fundos.append((candle_5min_fundo.name, candle_5min_fundo['close']))\n",
        "                    pontos_confirmacao.append((candle_5min_fundo.name, candle_5min_fundo['close']))\n",
        "\n",
        "                # Verificar o próximo intervalo de 60 minutos para um fechamento mais baixo\n",
        "                if i + 1 < len(df_60min):\n",
        "                    prox_candle = df_60min.iloc[i + 1]\n",
        "                    prox_intervalo_5min = df_5min[(df_5min.index >= prox_candle.name) &\n",
        "                                                    (df_5min.index < prox_candle.name + pd.Timedelta(minutes=60))]\n",
        "                    if not prox_intervalo_5min.empty:\n",
        "                        menor_close_prox_5min = prox_intervalo_5min['close'].min()\n",
        "\n",
        "                        # Atualizar fundo se um fechamento mais baixo existir no próximo intervalo\n",
        "                        if menor_close_prox_5min < menor_close_5min:\n",
        "                            candle_5min_fundo_prox = prox_intervalo_5min[prox_intervalo_5min['close'] == menor_close_prox_5min].iloc[0]\n",
        "                            fundos[-1] = (candle_5min_fundo_prox.name, candle_5min_fundo_prox['close'])\n",
        "                            pontos_confirmacao[-1] = (candle_5min_fundo_prox.name, candle_5min_fundo_prox['close'])\n",
        "\n",
        "        # Avançar para o próximo candle de 60 minutos\n",
        "        i += 1\n",
        "\n",
        "    return topos, fundos, pontos_confirmacao"
      ],
      "metadata": {
        "id": "2K7txDBCvcZH"
      },
      "execution_count": null,
      "outputs": []
    },
    {
      "cell_type": "markdown",
      "source": [
        "# Classe separada para plotar o grafico de candles com topos e vales"
      ],
      "metadata": {
        "id": "VbWnjCsM6mIE"
      }
    },
    {
      "cell_type": "code",
      "source": [
        "class Visualizer:\n",
        "    def __init__(self, df_resampled, topos, fundos, pontos_confirmacao=[]):\n",
        "        self.df_resampled = df_resampled\n",
        "        self.topos = topos\n",
        "        self.fundos = fundos\n",
        "        self.pontos_confirmacao = pontos_confirmacao\n",
        "\n",
        "    def plot(self, timeframe='5min'):\n",
        "        # Dictionary of allowed intervals\n",
        "        timeframes = {'5min': '5 minutes', '15min': '15 minutes', '30min': '30 minutes', '60min': '60 minutes'}\n",
        "\n",
        "        if timeframe not in timeframes:\n",
        "            raise ValueError(f\"Interval {timeframe} not supported. Choose from '5min', '15min', '30min', or '60min'.\")\n",
        "\n",
        "        # Resample data based on selected interval\n",
        "        df_resampled = self.df_resampled.resample(timeframe).agg({\n",
        "            'open': 'first',\n",
        "            'close': 'last',\n",
        "            'high': 'max',\n",
        "            'low': 'min',\n",
        "            'volume': 'sum'\n",
        "        }).dropna()\n",
        "\n",
        "        # Adjust confirmation points for the chosen timeframe\n",
        "        pontos_confirmacao_resampled = [\n",
        "            (df_resampled.index.asof(ponto[0]), ponto[1])\n",
        "            for ponto in self.pontos_confirmacao if ponto[0] in df_resampled.index\n",
        "        ]\n",
        "\n",
        "        fig = go.Figure()\n",
        "\n",
        "        # Plot candles for the selected interval\n",
        "        fig.add_trace(go.Candlestick(x=df_resampled.index,\n",
        "                                     open=df_resampled['open'],\n",
        "                                     high=df_resampled['high'],\n",
        "                                     low=df_resampled['low'],\n",
        "                                     close=df_resampled['close'],\n",
        "                                     name=f'Candles ({timeframes[timeframe]})'))\n",
        "\n",
        "        # Mark tops with a black circle and add \"Top\" label\n",
        "        for topo in self.topos:\n",
        "            fig.add_trace(go.Scatter(\n",
        "                x=[topo[0]], y=[topo[1]],\n",
        "                mode='markers+text',\n",
        "                marker=dict(color='black', size=8, symbol='circle'),\n",
        "                text=['Top'],\n",
        "                textposition='top center',\n",
        "                name='Top'))\n",
        "\n",
        "        # Mark bottoms with a gray circle and add \"Bottom\" label\n",
        "        for fundo in self.fundos:\n",
        "            fig.add_trace(go.Scatter(\n",
        "                x=[fundo[0]], y=[fundo[1]],\n",
        "                mode='markers+text',\n",
        "                marker=dict(color='gray', size=8, symbol='circle'),\n",
        "                text=['Bottom'],\n",
        "                textposition='bottom center',\n",
        "                name='Bottom'))\n",
        "\n",
        "        # Add a blue line connecting the confirmation points\n",
        "        if pontos_confirmacao_resampled:\n",
        "            x_pontos, y_pontos = zip(*pontos_confirmacao_resampled)\n",
        "            fig.add_trace(go.Scatter(\n",
        "                x=x_pontos, y=y_pontos,\n",
        "                mode='lines+markers',\n",
        "                line=dict(color='blue', width=2),\n",
        "                marker=dict(color='blue', size=6, symbol='diamond'),\n",
        "                name='Confirmation Lines'))\n",
        "\n",
        "        # Chart settings\n",
        "        fig.update_layout(\n",
        "            title=f'Detected Tops and Bottoms ({timeframes[timeframe]})',\n",
        "            xaxis_title='Date',\n",
        "            yaxis_title='Price',\n",
        "            legend_title_text='Legend',\n",
        "            xaxis_rangeslider_visible=False,\n",
        "            legend=dict(orientation=\"h\", yanchor=\"bottom\", y=1.02, xanchor=\"right\", x=1)\n",
        "        )\n",
        "\n",
        "        # Display the chart\n",
        "        fig.show()\n"
      ],
      "metadata": {
        "id": "OabBGdPe2TUt"
      },
      "execution_count": null,
      "outputs": []
    },
    {
      "cell_type": "code",
      "source": [
        "if __name__ == '__main__':\n",
        "    # Configurações iniciais\n",
        "    db_path = r'/content/drive/MyDrive/Database_define.db'\n",
        "    query = \"\"\"\n",
        "    SELECT id_ticker, date, time, open, close, high, low, average, volume, business, amount_stock\n",
        "    FROM price5\n",
        "    WHERE id_ticker = 3193 AND date = '2024-06-27'\n",
        "    \"\"\"\n",
        "\n",
        "    # Carregar e processar os dados\n",
        "    df = load_data(db_path, query)\n",
        "    df = process_data(df)\n",
        "\n",
        "    # Marcar os topos e fundos nas sequências dos candles de 60 minutos\n",
        "    topos, fundos, pontos_confirmacao = detectar_topos_fundos_60_min(df)\n",
        "\n",
        "    # Exibir topos e fundos\n",
        "    print(\"Topos:\", topos)\n",
        "    print(\"Fundos:\", fundos)\n",
        "\n",
        "    # Criar uma instância da classe Visualizer e gerar o gráfico\n",
        "    visualizer = Visualizer(df, topos, fundos, pontos_confirmacao)\n",
        "    visualizer.plot()"
      ],
      "metadata": {
        "colab": {
          "base_uri": "https://localhost:8080/",
          "height": 578
        },
        "id": "YXv7m3cvwQHM",
        "outputId": "3ea7c1a8-b077-4c88-f760-598525edf2d9"
      },
      "execution_count": null,
      "outputs": [
        {
          "output_type": "stream",
          "name": "stdout",
          "text": [
            "Topos: [(Timestamp('2024-06-27 10:55:00'), 127325.0), (Timestamp('2024-06-27 12:50:00'), 127110.0), (Timestamp('2024-06-27 17:05:00'), 127920.0)]\n",
            "Fundos: [(Timestamp('2024-06-27 12:00:00'), 126585.0), (Timestamp('2024-06-27 14:10:00'), 126770.0)]\n"
          ]
        },
        {
          "output_type": "display_data",
          "data": {
            "text/html": [
              "<html>\n",
              "<head><meta charset=\"utf-8\" /></head>\n",
              "<body>\n",
              "    <div>            <script src=\"https://cdnjs.cloudflare.com/ajax/libs/mathjax/2.7.5/MathJax.js?config=TeX-AMS-MML_SVG\"></script><script type=\"text/javascript\">if (window.MathJax && window.MathJax.Hub && window.MathJax.Hub.Config) {window.MathJax.Hub.Config({SVG: {font: \"STIX-Web\"}});}</script>                <script type=\"text/javascript\">window.PlotlyConfig = {MathJaxConfig: 'local'};</script>\n",
              "        <script charset=\"utf-8\" src=\"https://cdn.plot.ly/plotly-2.35.2.min.js\"></script>                <div id=\"1fc25002-3ecb-4c6b-95a3-6dc7e3b307ce\" class=\"plotly-graph-div\" style=\"height:525px; width:100%;\"></div>            <script type=\"text/javascript\">                                    window.PLOTLYENV=window.PLOTLYENV || {};                                    if (document.getElementById(\"1fc25002-3ecb-4c6b-95a3-6dc7e3b307ce\")) {                    Plotly.newPlot(                        \"1fc25002-3ecb-4c6b-95a3-6dc7e3b307ce\",                        [{\"close\":[126785.0,126655.0,126805.0,126845.0,126970.0,127215.0,126995.0,127095.0,127130.0,127155.0,127235.0,127325.0,127275.0,127200.0,127240.0,127150.0,126940.0,126930.0,126900.0,126975.0,126955.0,126745.0,126610.0,126585.0,126645.0,126640.0,126635.0,126640.0,126730.0,126810.0,126940.0,126945.0,126985.0,127110.0,127050.0,127025.0,126950.0,126935.0,126905.0,126900.0,126895.0,126975.0,126960.0,127015.0,126990.0,126885.0,126770.0,126910.0,127140.0,127115.0,127085.0,127160.0,127250.0,127285.0,127340.0,127400.0,127370.0,127210.0,127300.0,127275.0,127335.0,127315.0,127420.0,127455.0,127440.0,127585.0,127695.0,127780.0,127825.0,127800.0,127715.0,127700.0,127725.0,127680.0,127675.0,127810.0,127850.0,127800.0,127840.0,127865.0,127920.0,127845.0,127845.0],\"high\":[126785.0,126775.0,126805.0,126845.0,127005.0,127270.0,127250.0,127115.0,127150.0,127155.0,127305.0,127325.0,127365.0,127220.0,127285.0,127265.0,127070.0,126975.0,126950.0,126980.0,126955.0,126865.0,126730.0,126620.0,126645.0,126685.0,126640.0,126670.0,126775.0,126825.0,126950.0,126945.0,127000.0,127110.0,127050.0,127070.0,127045.0,126955.0,127000.0,126900.0,126895.0,126975.0,127035.0,127015.0,126990.0,126915.0,126885.0,126910.0,127140.0,127140.0,127130.0,127220.0,127250.0,127285.0,127395.0,127400.0,127370.0,127340.0,127310.0,127310.0,127335.0,127350.0,127420.0,127465.0,127440.0,127585.0,127770.0,127805.0,127825.0,127845.0,127760.0,127775.0,127725.0,127730.0,127695.0,127810.0,127855.0,127800.0,127845.0,127865.0,127920.0,127850.0,127845.0],\"low\":[126705.0,126630.0,126665.0,126765.0,126845.0,127020.0,126995.0,127065.0,127020.0,127155.0,127035.0,127170.0,127275.0,127200.0,127240.0,127150.0,126925.0,126930.0,126900.0,126975.0,126925.0,126730.0,126600.0,126525.0,126555.0,126635.0,126610.0,126605.0,126660.0,126765.0,126850.0,126945.0,126965.0,126995.0,127050.0,127010.0,126950.0,126935.0,126905.0,126900.0,126895.0,126975.0,126960.0,126965.0,126990.0,126885.0,126770.0,126800.0,126920.0,127115.0,127080.0,127150.0,127225.0,127185.0,127255.0,127380.0,127285.0,127210.0,127195.0,127275.0,127335.0,127315.0,127325.0,127405.0,127390.0,127420.0,127575.0,127705.0,127735.0,127745.0,127715.0,127700.0,127685.0,127680.0,127655.0,127790.0,127795.0,127800.0,127830.0,127865.0,127885.0,127845.0,127830.0],\"name\":\"Candles (5 minutes)\",\"open\":[126750.0,126775.0,126780.0,126790.0,126865.0,127045.0,127045.0,127115.0,127060.0,127155.0,127120.0,127180.0,127350.0,127220.0,127260.0,127265.0,126985.0,126975.0,126950.0,126980.0,126930.0,126825.0,126730.0,126575.0,126625.0,126660.0,126635.0,126660.0,126680.0,126765.0,126860.0,126945.0,127000.0,126995.0,127050.0,127050.0,127010.0,126955.0,127000.0,126900.0,126895.0,126975.0,127035.0,126965.0,126990.0,126900.0,126885.0,126910.0,127040.0,127140.0,127130.0,127210.0,127225.0,127185.0,127325.0,127400.0,127350.0,127300.0,127300.0,127310.0,127335.0,127350.0,127405.0,127415.0,127390.0,127435.0,127575.0,127720.0,127750.0,127755.0,127740.0,127765.0,127705.0,127730.0,127695.0,127790.0,127795.0,127800.0,127830.0,127865.0,127885.0,127850.0,127830.0],\"x\":[\"2024-06-27T10:00:00\",\"2024-06-27T10:05:00\",\"2024-06-27T10:10:00\",\"2024-06-27T10:15:00\",\"2024-06-27T10:20:00\",\"2024-06-27T10:25:00\",\"2024-06-27T10:30:00\",\"2024-06-27T10:35:00\",\"2024-06-27T10:40:00\",\"2024-06-27T10:45:00\",\"2024-06-27T10:50:00\",\"2024-06-27T10:55:00\",\"2024-06-27T11:00:00\",\"2024-06-27T11:05:00\",\"2024-06-27T11:10:00\",\"2024-06-27T11:15:00\",\"2024-06-27T11:20:00\",\"2024-06-27T11:25:00\",\"2024-06-27T11:30:00\",\"2024-06-27T11:35:00\",\"2024-06-27T11:45:00\",\"2024-06-27T11:50:00\",\"2024-06-27T11:55:00\",\"2024-06-27T12:00:00\",\"2024-06-27T12:05:00\",\"2024-06-27T12:10:00\",\"2024-06-27T12:15:00\",\"2024-06-27T12:20:00\",\"2024-06-27T12:25:00\",\"2024-06-27T12:30:00\",\"2024-06-27T12:35:00\",\"2024-06-27T12:40:00\",\"2024-06-27T12:45:00\",\"2024-06-27T12:50:00\",\"2024-06-27T12:55:00\",\"2024-06-27T13:00:00\",\"2024-06-27T13:05:00\",\"2024-06-27T13:10:00\",\"2024-06-27T13:25:00\",\"2024-06-27T13:30:00\",\"2024-06-27T13:35:00\",\"2024-06-27T13:45:00\",\"2024-06-27T13:50:00\",\"2024-06-27T13:55:00\",\"2024-06-27T14:00:00\",\"2024-06-27T14:05:00\",\"2024-06-27T14:10:00\",\"2024-06-27T14:15:00\",\"2024-06-27T14:20:00\",\"2024-06-27T14:25:00\",\"2024-06-27T14:30:00\",\"2024-06-27T14:35:00\",\"2024-06-27T14:40:00\",\"2024-06-27T14:45:00\",\"2024-06-27T14:50:00\",\"2024-06-27T14:55:00\",\"2024-06-27T15:00:00\",\"2024-06-27T15:05:00\",\"2024-06-27T15:10:00\",\"2024-06-27T15:15:00\",\"2024-06-27T15:20:00\",\"2024-06-27T15:25:00\",\"2024-06-27T15:30:00\",\"2024-06-27T15:35:00\",\"2024-06-27T15:40:00\",\"2024-06-27T15:45:00\",\"2024-06-27T15:50:00\",\"2024-06-27T15:55:00\",\"2024-06-27T16:00:00\",\"2024-06-27T16:05:00\",\"2024-06-27T16:15:00\",\"2024-06-27T16:20:00\",\"2024-06-27T16:25:00\",\"2024-06-27T16:30:00\",\"2024-06-27T16:35:00\",\"2024-06-27T16:40:00\",\"2024-06-27T16:45:00\",\"2024-06-27T16:50:00\",\"2024-06-27T16:55:00\",\"2024-06-27T17:00:00\",\"2024-06-27T17:05:00\",\"2024-06-27T17:10:00\",\"2024-06-27T17:20:00\"],\"type\":\"candlestick\"},{\"marker\":{\"color\":\"black\",\"size\":8,\"symbol\":\"circle\"},\"mode\":\"markers+text\",\"name\":\"Top\",\"text\":[\"Top\"],\"textposition\":\"top center\",\"x\":[\"2024-06-27T10:55:00\"],\"y\":[127325.0],\"type\":\"scatter\"},{\"marker\":{\"color\":\"black\",\"size\":8,\"symbol\":\"circle\"},\"mode\":\"markers+text\",\"name\":\"Top\",\"text\":[\"Top\"],\"textposition\":\"top center\",\"x\":[\"2024-06-27T12:50:00\"],\"y\":[127110.0],\"type\":\"scatter\"},{\"marker\":{\"color\":\"black\",\"size\":8,\"symbol\":\"circle\"},\"mode\":\"markers+text\",\"name\":\"Top\",\"text\":[\"Top\"],\"textposition\":\"top center\",\"x\":[\"2024-06-27T17:05:00\"],\"y\":[127920.0],\"type\":\"scatter\"},{\"marker\":{\"color\":\"gray\",\"size\":8,\"symbol\":\"circle\"},\"mode\":\"markers+text\",\"name\":\"Bottom\",\"text\":[\"Bottom\"],\"textposition\":\"bottom center\",\"x\":[\"2024-06-27T12:00:00\"],\"y\":[126585.0],\"type\":\"scatter\"},{\"marker\":{\"color\":\"gray\",\"size\":8,\"symbol\":\"circle\"},\"mode\":\"markers+text\",\"name\":\"Bottom\",\"text\":[\"Bottom\"],\"textposition\":\"bottom center\",\"x\":[\"2024-06-27T14:10:00\"],\"y\":[126770.0],\"type\":\"scatter\"},{\"line\":{\"color\":\"blue\",\"width\":2},\"marker\":{\"color\":\"blue\",\"size\":6,\"symbol\":\"diamond\"},\"mode\":\"lines+markers\",\"name\":\"Confirmation Lines\",\"x\":[\"2024-06-27T10:55:00\",\"2024-06-27T12:00:00\",\"2024-06-27T12:50:00\",\"2024-06-27T14:10:00\",\"2024-06-27T17:05:00\"],\"y\":[127325.0,126585.0,127110.0,126770.0,127920.0],\"type\":\"scatter\"}],                        {\"template\":{\"data\":{\"histogram2dcontour\":[{\"type\":\"histogram2dcontour\",\"colorbar\":{\"outlinewidth\":0,\"ticks\":\"\"},\"colorscale\":[[0.0,\"#0d0887\"],[0.1111111111111111,\"#46039f\"],[0.2222222222222222,\"#7201a8\"],[0.3333333333333333,\"#9c179e\"],[0.4444444444444444,\"#bd3786\"],[0.5555555555555556,\"#d8576b\"],[0.6666666666666666,\"#ed7953\"],[0.7777777777777778,\"#fb9f3a\"],[0.8888888888888888,\"#fdca26\"],[1.0,\"#f0f921\"]]}],\"choropleth\":[{\"type\":\"choropleth\",\"colorbar\":{\"outlinewidth\":0,\"ticks\":\"\"}}],\"histogram2d\":[{\"type\":\"histogram2d\",\"colorbar\":{\"outlinewidth\":0,\"ticks\":\"\"},\"colorscale\":[[0.0,\"#0d0887\"],[0.1111111111111111,\"#46039f\"],[0.2222222222222222,\"#7201a8\"],[0.3333333333333333,\"#9c179e\"],[0.4444444444444444,\"#bd3786\"],[0.5555555555555556,\"#d8576b\"],[0.6666666666666666,\"#ed7953\"],[0.7777777777777778,\"#fb9f3a\"],[0.8888888888888888,\"#fdca26\"],[1.0,\"#f0f921\"]]}],\"heatmap\":[{\"type\":\"heatmap\",\"colorbar\":{\"outlinewidth\":0,\"ticks\":\"\"},\"colorscale\":[[0.0,\"#0d0887\"],[0.1111111111111111,\"#46039f\"],[0.2222222222222222,\"#7201a8\"],[0.3333333333333333,\"#9c179e\"],[0.4444444444444444,\"#bd3786\"],[0.5555555555555556,\"#d8576b\"],[0.6666666666666666,\"#ed7953\"],[0.7777777777777778,\"#fb9f3a\"],[0.8888888888888888,\"#fdca26\"],[1.0,\"#f0f921\"]]}],\"heatmapgl\":[{\"type\":\"heatmapgl\",\"colorbar\":{\"outlinewidth\":0,\"ticks\":\"\"},\"colorscale\":[[0.0,\"#0d0887\"],[0.1111111111111111,\"#46039f\"],[0.2222222222222222,\"#7201a8\"],[0.3333333333333333,\"#9c179e\"],[0.4444444444444444,\"#bd3786\"],[0.5555555555555556,\"#d8576b\"],[0.6666666666666666,\"#ed7953\"],[0.7777777777777778,\"#fb9f3a\"],[0.8888888888888888,\"#fdca26\"],[1.0,\"#f0f921\"]]}],\"contourcarpet\":[{\"type\":\"contourcarpet\",\"colorbar\":{\"outlinewidth\":0,\"ticks\":\"\"}}],\"contour\":[{\"type\":\"contour\",\"colorbar\":{\"outlinewidth\":0,\"ticks\":\"\"},\"colorscale\":[[0.0,\"#0d0887\"],[0.1111111111111111,\"#46039f\"],[0.2222222222222222,\"#7201a8\"],[0.3333333333333333,\"#9c179e\"],[0.4444444444444444,\"#bd3786\"],[0.5555555555555556,\"#d8576b\"],[0.6666666666666666,\"#ed7953\"],[0.7777777777777778,\"#fb9f3a\"],[0.8888888888888888,\"#fdca26\"],[1.0,\"#f0f921\"]]}],\"surface\":[{\"type\":\"surface\",\"colorbar\":{\"outlinewidth\":0,\"ticks\":\"\"},\"colorscale\":[[0.0,\"#0d0887\"],[0.1111111111111111,\"#46039f\"],[0.2222222222222222,\"#7201a8\"],[0.3333333333333333,\"#9c179e\"],[0.4444444444444444,\"#bd3786\"],[0.5555555555555556,\"#d8576b\"],[0.6666666666666666,\"#ed7953\"],[0.7777777777777778,\"#fb9f3a\"],[0.8888888888888888,\"#fdca26\"],[1.0,\"#f0f921\"]]}],\"mesh3d\":[{\"type\":\"mesh3d\",\"colorbar\":{\"outlinewidth\":0,\"ticks\":\"\"}}],\"scatter\":[{\"fillpattern\":{\"fillmode\":\"overlay\",\"size\":10,\"solidity\":0.2},\"type\":\"scatter\"}],\"parcoords\":[{\"type\":\"parcoords\",\"line\":{\"colorbar\":{\"outlinewidth\":0,\"ticks\":\"\"}}}],\"scatterpolargl\":[{\"type\":\"scatterpolargl\",\"marker\":{\"colorbar\":{\"outlinewidth\":0,\"ticks\":\"\"}}}],\"bar\":[{\"error_x\":{\"color\":\"#2a3f5f\"},\"error_y\":{\"color\":\"#2a3f5f\"},\"marker\":{\"line\":{\"color\":\"#E5ECF6\",\"width\":0.5},\"pattern\":{\"fillmode\":\"overlay\",\"size\":10,\"solidity\":0.2}},\"type\":\"bar\"}],\"scattergeo\":[{\"type\":\"scattergeo\",\"marker\":{\"colorbar\":{\"outlinewidth\":0,\"ticks\":\"\"}}}],\"scatterpolar\":[{\"type\":\"scatterpolar\",\"marker\":{\"colorbar\":{\"outlinewidth\":0,\"ticks\":\"\"}}}],\"histogram\":[{\"marker\":{\"pattern\":{\"fillmode\":\"overlay\",\"size\":10,\"solidity\":0.2}},\"type\":\"histogram\"}],\"scattergl\":[{\"type\":\"scattergl\",\"marker\":{\"colorbar\":{\"outlinewidth\":0,\"ticks\":\"\"}}}],\"scatter3d\":[{\"type\":\"scatter3d\",\"line\":{\"colorbar\":{\"outlinewidth\":0,\"ticks\":\"\"}},\"marker\":{\"colorbar\":{\"outlinewidth\":0,\"ticks\":\"\"}}}],\"scattermapbox\":[{\"type\":\"scattermapbox\",\"marker\":{\"colorbar\":{\"outlinewidth\":0,\"ticks\":\"\"}}}],\"scatterternary\":[{\"type\":\"scatterternary\",\"marker\":{\"colorbar\":{\"outlinewidth\":0,\"ticks\":\"\"}}}],\"scattercarpet\":[{\"type\":\"scattercarpet\",\"marker\":{\"colorbar\":{\"outlinewidth\":0,\"ticks\":\"\"}}}],\"carpet\":[{\"aaxis\":{\"endlinecolor\":\"#2a3f5f\",\"gridcolor\":\"white\",\"linecolor\":\"white\",\"minorgridcolor\":\"white\",\"startlinecolor\":\"#2a3f5f\"},\"baxis\":{\"endlinecolor\":\"#2a3f5f\",\"gridcolor\":\"white\",\"linecolor\":\"white\",\"minorgridcolor\":\"white\",\"startlinecolor\":\"#2a3f5f\"},\"type\":\"carpet\"}],\"table\":[{\"cells\":{\"fill\":{\"color\":\"#EBF0F8\"},\"line\":{\"color\":\"white\"}},\"header\":{\"fill\":{\"color\":\"#C8D4E3\"},\"line\":{\"color\":\"white\"}},\"type\":\"table\"}],\"barpolar\":[{\"marker\":{\"line\":{\"color\":\"#E5ECF6\",\"width\":0.5},\"pattern\":{\"fillmode\":\"overlay\",\"size\":10,\"solidity\":0.2}},\"type\":\"barpolar\"}],\"pie\":[{\"automargin\":true,\"type\":\"pie\"}]},\"layout\":{\"autotypenumbers\":\"strict\",\"colorway\":[\"#636efa\",\"#EF553B\",\"#00cc96\",\"#ab63fa\",\"#FFA15A\",\"#19d3f3\",\"#FF6692\",\"#B6E880\",\"#FF97FF\",\"#FECB52\"],\"font\":{\"color\":\"#2a3f5f\"},\"hovermode\":\"closest\",\"hoverlabel\":{\"align\":\"left\"},\"paper_bgcolor\":\"white\",\"plot_bgcolor\":\"#E5ECF6\",\"polar\":{\"bgcolor\":\"#E5ECF6\",\"angularaxis\":{\"gridcolor\":\"white\",\"linecolor\":\"white\",\"ticks\":\"\"},\"radialaxis\":{\"gridcolor\":\"white\",\"linecolor\":\"white\",\"ticks\":\"\"}},\"ternary\":{\"bgcolor\":\"#E5ECF6\",\"aaxis\":{\"gridcolor\":\"white\",\"linecolor\":\"white\",\"ticks\":\"\"},\"baxis\":{\"gridcolor\":\"white\",\"linecolor\":\"white\",\"ticks\":\"\"},\"caxis\":{\"gridcolor\":\"white\",\"linecolor\":\"white\",\"ticks\":\"\"}},\"coloraxis\":{\"colorbar\":{\"outlinewidth\":0,\"ticks\":\"\"}},\"colorscale\":{\"sequential\":[[0.0,\"#0d0887\"],[0.1111111111111111,\"#46039f\"],[0.2222222222222222,\"#7201a8\"],[0.3333333333333333,\"#9c179e\"],[0.4444444444444444,\"#bd3786\"],[0.5555555555555556,\"#d8576b\"],[0.6666666666666666,\"#ed7953\"],[0.7777777777777778,\"#fb9f3a\"],[0.8888888888888888,\"#fdca26\"],[1.0,\"#f0f921\"]],\"sequentialminus\":[[0.0,\"#0d0887\"],[0.1111111111111111,\"#46039f\"],[0.2222222222222222,\"#7201a8\"],[0.3333333333333333,\"#9c179e\"],[0.4444444444444444,\"#bd3786\"],[0.5555555555555556,\"#d8576b\"],[0.6666666666666666,\"#ed7953\"],[0.7777777777777778,\"#fb9f3a\"],[0.8888888888888888,\"#fdca26\"],[1.0,\"#f0f921\"]],\"diverging\":[[0,\"#8e0152\"],[0.1,\"#c51b7d\"],[0.2,\"#de77ae\"],[0.3,\"#f1b6da\"],[0.4,\"#fde0ef\"],[0.5,\"#f7f7f7\"],[0.6,\"#e6f5d0\"],[0.7,\"#b8e186\"],[0.8,\"#7fbc41\"],[0.9,\"#4d9221\"],[1,\"#276419\"]]},\"xaxis\":{\"gridcolor\":\"white\",\"linecolor\":\"white\",\"ticks\":\"\",\"title\":{\"standoff\":15},\"zerolinecolor\":\"white\",\"automargin\":true,\"zerolinewidth\":2},\"yaxis\":{\"gridcolor\":\"white\",\"linecolor\":\"white\",\"ticks\":\"\",\"title\":{\"standoff\":15},\"zerolinecolor\":\"white\",\"automargin\":true,\"zerolinewidth\":2},\"scene\":{\"xaxis\":{\"backgroundcolor\":\"#E5ECF6\",\"gridcolor\":\"white\",\"linecolor\":\"white\",\"showbackground\":true,\"ticks\":\"\",\"zerolinecolor\":\"white\",\"gridwidth\":2},\"yaxis\":{\"backgroundcolor\":\"#E5ECF6\",\"gridcolor\":\"white\",\"linecolor\":\"white\",\"showbackground\":true,\"ticks\":\"\",\"zerolinecolor\":\"white\",\"gridwidth\":2},\"zaxis\":{\"backgroundcolor\":\"#E5ECF6\",\"gridcolor\":\"white\",\"linecolor\":\"white\",\"showbackground\":true,\"ticks\":\"\",\"zerolinecolor\":\"white\",\"gridwidth\":2}},\"shapedefaults\":{\"line\":{\"color\":\"#2a3f5f\"}},\"annotationdefaults\":{\"arrowcolor\":\"#2a3f5f\",\"arrowhead\":0,\"arrowwidth\":1},\"geo\":{\"bgcolor\":\"white\",\"landcolor\":\"#E5ECF6\",\"subunitcolor\":\"white\",\"showland\":true,\"showlakes\":true,\"lakecolor\":\"white\"},\"title\":{\"x\":0.05},\"mapbox\":{\"style\":\"light\"}}},\"legend\":{\"title\":{\"text\":\"Legend\"},\"orientation\":\"h\",\"yanchor\":\"bottom\",\"y\":1.02,\"xanchor\":\"right\",\"x\":1},\"xaxis\":{\"rangeslider\":{\"visible\":false},\"title\":{\"text\":\"Date\"}},\"title\":{\"text\":\"Detected Tops and Bottoms (5 minutes)\"},\"yaxis\":{\"title\":{\"text\":\"Price\"}}},                        {\"responsive\": true}                    ).then(function(){\n",
              "                            \n",
              "var gd = document.getElementById('1fc25002-3ecb-4c6b-95a3-6dc7e3b307ce');\n",
              "var x = new MutationObserver(function (mutations, observer) {{\n",
              "        var display = window.getComputedStyle(gd).display;\n",
              "        if (!display || display === 'none') {{\n",
              "            console.log([gd, 'removed!']);\n",
              "            Plotly.purge(gd);\n",
              "            observer.disconnect();\n",
              "        }}\n",
              "}});\n",
              "\n",
              "// Listen for the removal of the full notebook cells\n",
              "var notebookContainer = gd.closest('#notebook-container');\n",
              "if (notebookContainer) {{\n",
              "    x.observe(notebookContainer, {childList: true});\n",
              "}}\n",
              "\n",
              "// Listen for the clearing of the current output cell\n",
              "var outputEl = gd.closest('.output');\n",
              "if (outputEl) {{\n",
              "    x.observe(outputEl, {childList: true});\n",
              "}}\n",
              "\n",
              "                        })                };                            </script>        </div>\n",
              "</body>\n",
              "</html>"
            ]
          },
          "metadata": {}
        }
      ]
    }
  ]
}